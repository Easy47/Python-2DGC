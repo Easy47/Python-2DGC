{
 "cells": [
  {
   "cell_type": "code",
   "execution_count": 77,
   "metadata": {},
   "outputs": [],
   "source": [
    "import synthese\n",
    "import importlib\n",
    "import chromatof"
   ]
  },
  {
   "cell_type": "code",
   "execution_count": 26,
   "metadata": {},
   "outputs": [
    {
     "data": {
      "text/plain": [
       "<module 'synthese' from 'c:\\\\Users\\\\33631\\\\Desktop\\\\stage\\\\pic\\\\synthese.py'>"
      ]
     },
     "execution_count": 26,
     "metadata": {},
     "output_type": "execute_result"
    }
   ],
   "source": [
    "importlib.reload(synthese)"
   ]
  },
  {
   "cell_type": "code",
   "execution_count": 17,
   "metadata": {},
   "outputs": [],
   "source": [
    "filters = []\n",
    "dog_params = {\"filters\": filters, \"sigma_ratio\": [1.6], \"seuil\": [0.15, 0.2, 0.25, 0.3, 0.35, 0.4, 0.45, 0.5, 0.55, 0.6, 0.65, 0.7, 0.75, 0.8, 0.85, 0.9], \"abs_t\": [0.024]}\n",
    "log_params = {\"filters\": filters, \"num_sigma\": [10], \"seuil\": [0.15, 0.2, 0.25, 0.3, 0.35, 0.4, 0.45, 0.5, 0.55, 0.6, 0.65, 0.7, 0.75, 0.8, 0.85, 0.9], \"abs_t\": [0., 0.024, 0.025]}\n",
    "peak_local_max_params = {\"filters\": filters,\"min_distance\":[1],\"seuil\": [0.01, 0.9], \"abs_t\": [0.024]}\n",
    "\n",
    "params = {\"LoG\": log_params}\n",
    "params = {\"DoG\":dog_params}\n",
    "params = {\"peak_local_max\": peak_local_max_params}"
   ]
  },
  {
   "attachments": {},
   "cell_type": "markdown",
   "metadata": {},
   "source": [
    "# PLM"
   ]
  },
  {
   "cell_type": "code",
   "execution_count": 58,
   "metadata": {},
   "outputs": [
    {
     "name": "stdout",
     "output_type": "stream",
     "text": [
      "[27.90322581] [11.61290323] [0.96774194] [0.43227124]\n",
      "--------------------------------------\n",
      "[35.67741935] [13.80645161] [0.97043011] [0.40082677]\n",
      "[30.58064516] [12.87096774] [0.97043011] [0.43014388]\n",
      "--------------------------------------\n",
      "[41.38709677] [12.58064516] [0.97580645] [0.31465578]\n"
     ]
    }
   ],
   "source": [
    "group=\"G0\"\n",
    "peak_local_max_params = {\"filters\": filters,\"min_distance\":[1],\"seuil\": [0.01, 0.9], \"abs_t\": [0.024]}\n",
    "params = {\"peak_local_max\": peak_local_max_params}\n",
    "\n",
    "nb_peaks_mean, nb_found_present_mean, recall_mean, accuracy_mean = synthese.synthese_group(params, \"plm_TIC_cluster.json\", \"C:/Users/33631/Desktop/all_bench/benchmark/\", method='peak_local_max', group=group, plot=False)\n",
    "print(nb_peaks_mean, nb_found_present_mean, recall_mean, accuracy_mean)\n",
    "\n",
    "print(\"--------------------------------------\")\n",
    "peak_local_max_params = {\"filters\": filters,\"min_distance\":[1],\"seuil\": [0.9], \"abs_t\": [0.7]}\n",
    "params = {\"peak_local_max\": peak_local_max_params}\n",
    "nb_peaks_mean, nb_found_present_mean, recall_mean, accuracy_mean = synthese.synthese_group(params, \"plm_mass_per_mass_cluster.json\", \"C:/Users/33631/Desktop/all_bench/benchmark/\", method='peak_local_max', group=group, plot=False)\n",
    "print(nb_peaks_mean, nb_found_present_mean, recall_mean, accuracy_mean)\n",
    "\n",
    "peak_local_max_params = {\"filters\": filters,\"min_distance\":[1],\"seuil\": [0.9], \"abs_t\": [0.9]}\n",
    "params = {\"peak_local_max\": peak_local_max_params}\n",
    "nb_peaks_mean, nb_found_present_mean, recall_mean, accuracy_mean = synthese.synthese_group(params, \"plm_mass_per_mass_cluster.json\", \"C:/Users/33631/Desktop/all_bench/benchmark/\", method='peak_local_max', group=group, plot=False)\n",
    "print(nb_peaks_mean, nb_found_present_mean, recall_mean, accuracy_mean)\n",
    "print(\"--------------------------------------\")\n",
    "peak_local_max_params = {\"filters\": filters,\"min_distance\":[1],\"seuil\": [0.9], \"abs_t\": [0.01]}\n",
    "params = {\"peak_local_max\": peak_local_max_params}\n",
    "nb_peaks_mean, nb_found_present_mean, recall_mean, accuracy_mean = synthese.synthese_group(params, \"plm_3D_cluster.json\", \"C:/Users/33631/Desktop/all_bench/benchmark/\", method='peak_local_max', group=group, plot=False)\n",
    "print(nb_peaks_mean, nb_found_present_mean, recall_mean, accuracy_mean)"
   ]
  },
  {
   "cell_type": "code",
   "execution_count": 53,
   "metadata": {},
   "outputs": [
    {
     "name": "stdout",
     "output_type": "stream",
     "text": [
      "[84.75675676] [11.7027027] [0.96621622] [0.14606394]\n",
      "--------------------------------------\n",
      "[68.59459459] [13.91891892] [0.95720721] [0.20715199]\n",
      "[59.37837838] [12.35135135] [0.96621622] [0.21462741]\n",
      "--------------------------------------\n",
      "[82.81081081] [12.27027027] [0.97072072] [0.15344117]\n"
     ]
    }
   ],
   "source": [
    "group=\"NIST\"\n",
    "peak_local_max_params = {\"filters\": filters,\"min_distance\":[1],\"seuil\": [0.01, 0.9], \"abs_t\": [0.024]}\n",
    "params = {\"peak_local_max\": peak_local_max_params}\n",
    "\n",
    "nb_peaks_mean, nb_found_present_mean, recall_mean, accuracy_mean = synthese.synthese_group(params, \"plm_TIC_cluster.json\", \"C:/Users/33631/Desktop/all_bench/benchmark/\", method='peak_local_max', group=group, plot=False)\n",
    "print(nb_peaks_mean, nb_found_present_mean, recall_mean, accuracy_mean)\n",
    "\n",
    "print(\"--------------------------------------\")\n",
    "peak_local_max_params = {\"filters\": filters,\"min_distance\":[1],\"seuil\": [0.9], \"abs_t\": [0.7]}\n",
    "params = {\"peak_local_max\": peak_local_max_params}\n",
    "nb_peaks_mean, nb_found_present_mean, recall_mean, accuracy_mean = synthese.synthese_group(params, \"plm_mass_per_mass_cluster.json\", \"C:/Users/33631/Desktop/all_bench/benchmark/\", method='peak_local_max', group=group, plot=False)\n",
    "print(nb_peaks_mean, nb_found_present_mean, recall_mean, accuracy_mean)\n",
    "\n",
    "peak_local_max_params = {\"filters\": filters,\"min_distance\":[1],\"seuil\": [0.9], \"abs_t\": [0.9]}\n",
    "params = {\"peak_local_max\": peak_local_max_params}\n",
    "nb_peaks_mean, nb_found_present_mean, recall_mean, accuracy_mean = synthese.synthese_group(params, \"plm_mass_per_mass_cluster.json\", \"C:/Users/33631/Desktop/all_bench/benchmark/\", method='peak_local_max', group=group, plot=False)\n",
    "print(nb_peaks_mean, nb_found_present_mean, recall_mean, accuracy_mean)\n",
    "print(\"--------------------------------------\")\n",
    "\n",
    "peak_local_max_params = {\"filters\": filters,\"min_distance\":[1],\"seuil\": [0.9], \"abs_t\": [0.01]}\n",
    "params = {\"peak_local_max\": peak_local_max_params}\n",
    "nb_peaks_mean, nb_found_present_mean, recall_mean, accuracy_mean = synthese.synthese_group(params, \"plm_3D_cluster.json\", \"C:/Users/33631/Desktop/all_bench/benchmark/\", method='peak_local_max', group=group, plot=False)\n",
    "print(nb_peaks_mean, nb_found_present_mean, recall_mean, accuracy_mean)"
   ]
  },
  {
   "cell_type": "code",
   "execution_count": 55,
   "metadata": {},
   "outputs": [
    {
     "name": "stdout",
     "output_type": "stream",
     "text": [
      "[77.28571429] [11.87755102] [0.98469388] [0.15945507]\n",
      "--------------------------------------\n",
      "[73.71428571] [13.57142857] [0.95238095] [0.18822331]\n",
      "[57.02040816] [12.3877551] [0.98129252] [0.22287934]\n",
      "--------------------------------------\n",
      "[85.32653061] [11.89795918] [0.98469388] [0.14365811]\n"
     ]
    }
   ],
   "source": [
    "group=\"*\"\n",
    "peak_local_max_params = {\"filters\": filters,\"min_distance\":[1],\"seuil\": [0.01, 0.9], \"abs_t\": [0.024]}\n",
    "params = {\"peak_local_max\": peak_local_max_params}\n",
    "\n",
    "nb_peaks_mean, nb_found_present_mean, recall_mean, accuracy_mean = synthese.synthese_group(params, \"plm_TIC_cluster.json\", \"C:/Users/33631/Desktop/all_bench/benchmark/\", method='peak_local_max', group=group, plot=False)\n",
    "print(nb_peaks_mean, nb_found_present_mean, recall_mean, accuracy_mean)\n",
    "\n",
    "print(\"--------------------------------------\")\n",
    "peak_local_max_params = {\"filters\": filters,\"min_distance\":[1],\"seuil\": [0.9], \"abs_t\": [0.7]}\n",
    "params = {\"peak_local_max\": peak_local_max_params}\n",
    "nb_peaks_mean, nb_found_present_mean, recall_mean, accuracy_mean = synthese.synthese_group(params, \"plm_mass_per_mass_cluster.json\", \"C:/Users/33631/Desktop/all_bench/benchmark/\", method='peak_local_max', group=group, plot=False)\n",
    "print(nb_peaks_mean, nb_found_present_mean, recall_mean, accuracy_mean)\n",
    "\n",
    "peak_local_max_params = {\"filters\": filters,\"min_distance\":[1],\"seuil\": [0.9], \"abs_t\": [0.9]}\n",
    "params = {\"peak_local_max\": peak_local_max_params}\n",
    "nb_peaks_mean, nb_found_present_mean, recall_mean, accuracy_mean = synthese.synthese_group(params, \"plm_mass_per_mass_cluster.json\", \"C:/Users/33631/Desktop/all_bench/benchmark/\", method='peak_local_max', group=group, plot=False)\n",
    "print(nb_peaks_mean, nb_found_present_mean, recall_mean, accuracy_mean)\n",
    "print(\"--------------------------------------\")\n",
    "\n",
    "\n",
    "peak_local_max_params = {\"filters\": filters,\"min_distance\":[1],\"seuil\": [0.9], \"abs_t\": [0.01]}\n",
    "params = {\"peak_local_max\": peak_local_max_params}\n",
    "nb_peaks_mean, nb_found_present_mean, recall_mean, accuracy_mean = synthese.synthese_group(params, \"plm_3D_cluster.json\", \"C:/Users/33631/Desktop/all_bench/benchmark/\", method='peak_local_max', group=group, plot=False)\n",
    "print(nb_peaks_mean, nb_found_present_mean, recall_mean, accuracy_mean)"
   ]
  },
  {
   "attachments": {},
   "cell_type": "markdown",
   "metadata": {},
   "source": [
    "# DoG"
   ]
  },
  {
   "cell_type": "code",
   "execution_count": 65,
   "metadata": {},
   "outputs": [
    {
     "name": "stdout",
     "output_type": "stream",
     "text": [
      "[41.5483871] [18.09677419] [0.97043011] [0.44570211]\n",
      "--------------------------------------\n",
      "[49.32258065] [16.29032258] [0.97043011] [0.33635646]\n",
      "[42.03225806] [13.93548387] [0.97311828] [0.33696699]\n",
      "--------------------------------------\n",
      "[53.93548387] [19.83870968] [0.97580645] [0.37391001]\n"
     ]
    }
   ],
   "source": [
    "group=\"G0\"\n",
    "method=\"DoG\"\n",
    "method_params = {\"filters\": filters, \"sigma_ratio\": [1.6], \"seuil\": [0.9], \"abs_t\": [0.01]}\n",
    "params = {\"DoG\": method_params}\n",
    "\n",
    "nb_peaks_mean, nb_found_present_mean, recall_mean, accuracy_mean = synthese.synthese_group(params, \"dog_TIC_cluster.json\", \"C:/Users/33631/Desktop/all_bench/benchmark/\", method=method, group=group, plot=False)\n",
    "print(nb_peaks_mean, nb_found_present_mean, recall_mean, accuracy_mean)\n",
    "\n",
    "print(\"--------------------------------------\")\n",
    "peak_local_max_params = {\"filters\": filters, \"sigma_ratio\": [1.6], \"seuil\": [0.9], \"abs_t\": [0.7]}\n",
    "params = {\"DoG\": peak_local_max_params}\n",
    "nb_peaks_mean, nb_found_present_mean, recall_mean, accuracy_mean = synthese.synthese_group(params, \"dog_mass_per_mass_cluster.json\", \"C:/Users/33631/Desktop/all_bench/benchmark/\", method=method, group=group, plot=False)\n",
    "print(nb_peaks_mean, nb_found_present_mean, recall_mean, accuracy_mean)\n",
    "\n",
    "peak_local_max_params = {\"filters\": filters, \"sigma_ratio\": [1.6], \"seuil\": [0.9], \"abs_t\": [0.9]}\n",
    "params = {\"DoG\": peak_local_max_params}\n",
    "nb_peaks_mean, nb_found_present_mean, recall_mean, accuracy_mean = synthese.synthese_group(params, \"dog_mass_per_mass_cluster.json\", \"C:/Users/33631/Desktop/all_bench/benchmark/\", method=method, group=group, plot=False)\n",
    "print(nb_peaks_mean, nb_found_present_mean, recall_mean, accuracy_mean)\n",
    "print(\"--------------------------------------\")\n",
    "\n",
    "\n",
    "peak_local_max_params = {\"filters\": filters, \"sigma_ratio\": [1.6], \"seuil\": [0.9], \"abs_t\": [0.01]}\n",
    "params = {\"DoG\": peak_local_max_params}\n",
    "nb_peaks_mean, nb_found_present_mean, recall_mean, accuracy_mean = synthese.synthese_group(params, \"dog_3D_cluster.json\", \"C:/Users/33631/Desktop/all_bench/benchmark/\", method=method, group=group, plot=False)\n",
    "print(nb_peaks_mean, nb_found_present_mean, recall_mean, accuracy_mean)"
   ]
  },
  {
   "cell_type": "code",
   "execution_count": 66,
   "metadata": {},
   "outputs": [
    {
     "name": "stdout",
     "output_type": "stream",
     "text": [
      "[94.81081081] [18.21621622] [0.96396396] [0.19841738]\n",
      "--------------------------------------\n",
      "[85.54054054] [16.59459459] [0.94369369] [0.19803738]\n",
      "[67.94594595] [13.81081081] [0.95720721] [0.20729121]\n",
      "--------------------------------------\n",
      "[110.21621622] [18.83783784] [0.97297297] [0.17500491]\n"
     ]
    }
   ],
   "source": [
    "group=\"NIST\"\n",
    "method=\"DoG\"\n",
    "method_params = {\"filters\": filters, \"sigma_ratio\": [1.6], \"seuil\": [0.9], \"abs_t\": [0.01]}\n",
    "params = {\"DoG\": method_params}\n",
    "\n",
    "nb_peaks_mean, nb_found_present_mean, recall_mean, accuracy_mean = synthese.synthese_group(params, \"dog_TIC_cluster.json\", \"C:/Users/33631/Desktop/all_bench/benchmark/\", method=method, group=group, plot=False)\n",
    "print(nb_peaks_mean, nb_found_present_mean, recall_mean, accuracy_mean)\n",
    "\n",
    "print(\"--------------------------------------\")\n",
    "peak_local_max_params = {\"filters\": filters, \"sigma_ratio\": [1.6], \"seuil\": [0.9], \"abs_t\": [0.7]}\n",
    "params = {\"DoG\": peak_local_max_params}\n",
    "nb_peaks_mean, nb_found_present_mean, recall_mean, accuracy_mean = synthese.synthese_group(params, \"dog_mass_per_mass_cluster.json\", \"C:/Users/33631/Desktop/all_bench/benchmark/\", method=method, group=group, plot=False)\n",
    "print(nb_peaks_mean, nb_found_present_mean, recall_mean, accuracy_mean)\n",
    "\n",
    "peak_local_max_params = {\"filters\": filters, \"sigma_ratio\": [1.6], \"seuil\": [0.9], \"abs_t\": [0.9]}\n",
    "params = {\"DoG\": peak_local_max_params}\n",
    "nb_peaks_mean, nb_found_present_mean, recall_mean, accuracy_mean = synthese.synthese_group(params, \"dog_mass_per_mass_cluster.json\", \"C:/Users/33631/Desktop/all_bench/benchmark/\", method=method, group=group, plot=False)\n",
    "print(nb_peaks_mean, nb_found_present_mean, recall_mean, accuracy_mean)\n",
    "print(\"--------------------------------------\")\n",
    "\n",
    "\n",
    "peak_local_max_params = {\"filters\": filters, \"sigma_ratio\": [1.6], \"seuil\": [0.9], \"abs_t\": [0.01]}\n",
    "params = {\"DoG\": peak_local_max_params}\n",
    "nb_peaks_mean, nb_found_present_mean, recall_mean, accuracy_mean = synthese.synthese_group(params, \"dog_3D_cluster.json\", \"C:/Users/33631/Desktop/all_bench/benchmark/\", method=method, group=group, plot=False)\n",
    "print(nb_peaks_mean, nb_found_present_mean, recall_mean, accuracy_mean)"
   ]
  },
  {
   "cell_type": "code",
   "execution_count": 67,
   "metadata": {},
   "outputs": [
    {
     "name": "stdout",
     "output_type": "stream",
     "text": [
      "[86.36734694] [17.59183673] [0.95238095] [0.20736855]\n",
      "--------------------------------------\n",
      "[90.81632653] [15.65306122] [0.94217687] [0.17417124]\n",
      "[68.87755102] [13.04081633] [0.97789116] [0.1919651]\n",
      "--------------------------------------\n",
      "[109.89795918] [18.73469388] [0.98469388] [0.17308094]\n"
     ]
    }
   ],
   "source": [
    "group=\"*\"\n",
    "method=\"DoG\"\n",
    "method_params = {\"filters\": filters, \"sigma_ratio\": [1.6], \"seuil\": [0.9], \"abs_t\": [0.01]}\n",
    "params = {\"DoG\": method_params}\n",
    "\n",
    "nb_peaks_mean, nb_found_present_mean, recall_mean, accuracy_mean = synthese.synthese_group(params, \"dog_TIC_cluster.json\", \"C:/Users/33631/Desktop/all_bench/benchmark/\", method=method, group=group, plot=False)\n",
    "print(nb_peaks_mean, nb_found_present_mean, recall_mean, accuracy_mean)\n",
    "\n",
    "print(\"--------------------------------------\")\n",
    "peak_local_max_params = {\"filters\": filters, \"sigma_ratio\": [1.6], \"seuil\": [0.9], \"abs_t\": [0.7]}\n",
    "params = {\"DoG\": peak_local_max_params}\n",
    "nb_peaks_mean, nb_found_present_mean, recall_mean, accuracy_mean = synthese.synthese_group(params, \"dog_mass_per_mass_cluster.json\", \"C:/Users/33631/Desktop/all_bench/benchmark/\", method=method, group=group, plot=False)\n",
    "print(nb_peaks_mean, nb_found_present_mean, recall_mean, accuracy_mean)\n",
    "\n",
    "peak_local_max_params = {\"filters\": filters, \"sigma_ratio\": [1.6], \"seuil\": [0.9], \"abs_t\": [0.9]}\n",
    "params = {\"DoG\": peak_local_max_params}\n",
    "nb_peaks_mean, nb_found_present_mean, recall_mean, accuracy_mean = synthese.synthese_group(params, \"dog_mass_per_mass_cluster.json\", \"C:/Users/33631/Desktop/all_bench/benchmark/\", method=method, group=group, plot=False)\n",
    "print(nb_peaks_mean, nb_found_present_mean, recall_mean, accuracy_mean)\n",
    "print(\"--------------------------------------\")\n",
    "\n",
    "\n",
    "peak_local_max_params = {\"filters\": filters, \"sigma_ratio\": [1.6], \"seuil\": [0.9], \"abs_t\": [0.01]}\n",
    "params = {\"DoG\": peak_local_max_params}\n",
    "nb_peaks_mean, nb_found_present_mean, recall_mean, accuracy_mean = synthese.synthese_group(params, \"dog_3D_cluster.json\", \"C:/Users/33631/Desktop/all_bench/benchmark/\", method=method, group=group, plot=False)\n",
    "print(nb_peaks_mean, nb_found_present_mean, recall_mean, accuracy_mean)"
   ]
  },
  {
   "attachments": {},
   "cell_type": "markdown",
   "metadata": {},
   "source": [
    "# LoG"
   ]
  },
  {
   "cell_type": "code",
   "execution_count": 70,
   "metadata": {},
   "outputs": [
    {
     "name": "stdout",
     "output_type": "stream",
     "text": [
      "[42.16129032] [17.96774194] [0.97311828] [0.43525042]\n",
      "--------------------------------------\n",
      "[50.06451613] [17.03225806] [0.97043011] [0.34774296]\n",
      "[41.96774194] [14.29032258] [0.97043011] [0.34492852]\n",
      "--------------------------------------\n",
      "nan nan nan nan\n"
     ]
    }
   ],
   "source": [
    "group=\"G0\"\n",
    "method=\"LoG\"\n",
    "method_params = {\"filters\": filters, \"num_sigma\": [10], \"seuil\": [0.9], \"abs_t\": [0.01]}\n",
    "params = {\"LoG\": method_params}\n",
    "\n",
    "nb_peaks_mean, nb_found_present_mean, recall_mean, accuracy_mean = synthese.synthese_group(params, \"log_TIC_cluster.json\", \"C:/Users/33631/Desktop/all_bench/benchmark/\", method=method, group=group, plot=False)\n",
    "print(nb_peaks_mean, nb_found_present_mean, recall_mean, accuracy_mean)\n",
    "\n",
    "print(\"--------------------------------------\")\n",
    "peak_local_max_params = {\"filters\": filters, \"num_sigma\": [10], \"seuil\": [0.9], \"abs_t\": [0.7]}\n",
    "params = {\"LoG\": peak_local_max_params}\n",
    "nb_peaks_mean, nb_found_present_mean, recall_mean, accuracy_mean = synthese.synthese_group(params, \"log_mass_per_mass_cluster.json\", \"C:/Users/33631/Desktop/all_bench/benchmark/\", method=method, group=group, plot=False)\n",
    "print(nb_peaks_mean, nb_found_present_mean, recall_mean, accuracy_mean)\n",
    "\n",
    "peak_local_max_params = {\"filters\": filters, \"num_sigma\": [10], \"seuil\": [0.9], \"abs_t\": [0.9]}\n",
    "params = {\"LoG\": peak_local_max_params}\n",
    "nb_peaks_mean, nb_found_present_mean, recall_mean, accuracy_mean = synthese.synthese_group(params, \"log_mass_per_mass_cluster.json\", \"C:/Users/33631/Desktop/all_bench/benchmark/\", method=method, group=group, plot=False)\n",
    "print(nb_peaks_mean, nb_found_present_mean, recall_mean, accuracy_mean)\n",
    "print(\"--------------------------------------\")\n",
    "\n",
    "\n",
    "peak_local_max_params = {\"filters\": filters, \"num_sigma\": [10], \"seuil\": [0.9], \"abs_t\": [0.01]}\n",
    "params = {\"LoG\": peak_local_max_params}\n",
    "nb_peaks_mean, nb_found_present_mean, recall_mean, accuracy_mean = synthese.synthese_group(params, \"log_3D_cluster.json\", \"C:/Users/33631/Desktop/all_bench/benchmark/\", method=method, group=group, plot=False)\n",
    "print(nb_peaks_mean, nb_found_present_mean, recall_mean, accuracy_mean)"
   ]
  },
  {
   "cell_type": "code",
   "execution_count": 71,
   "metadata": {},
   "outputs": [
    {
     "name": "stdout",
     "output_type": "stream",
     "text": [
      "[98.40540541] [16.62162162] [0.89189189] [0.17597527]\n",
      "--------------------------------------\n",
      "[88.72972973] [16.94594595] [0.91441441] [0.19416397]\n",
      "[70.32432432] [13.67567568] [0.94144144] [0.19818329]\n",
      "--------------------------------------\n",
      "nan nan nan nan\n"
     ]
    }
   ],
   "source": [
    "group=\"NIST\"\n",
    "method=\"LoG\"\n",
    "method_params = {\"filters\": filters, \"num_sigma\": [10], \"seuil\": [0.9], \"abs_t\": [0.01]}\n",
    "params = {\"LoG\": method_params}\n",
    "\n",
    "nb_peaks_mean, nb_found_present_mean, recall_mean, accuracy_mean = synthese.synthese_group(params, \"log_TIC_cluster.json\", \"C:/Users/33631/Desktop/all_bench/benchmark/\", method=method, group=group, plot=False)\n",
    "print(nb_peaks_mean, nb_found_present_mean, recall_mean, accuracy_mean)\n",
    "\n",
    "print(\"--------------------------------------\")\n",
    "peak_local_max_params = {\"filters\": filters, \"num_sigma\": [10], \"seuil\": [0.9], \"abs_t\": [0.7]}\n",
    "params = {\"LoG\": peak_local_max_params}\n",
    "nb_peaks_mean, nb_found_present_mean, recall_mean, accuracy_mean = synthese.synthese_group(params, \"log_mass_per_mass_cluster.json\", \"C:/Users/33631/Desktop/all_bench/benchmark/\", method=method, group=group, plot=False)\n",
    "print(nb_peaks_mean, nb_found_present_mean, recall_mean, accuracy_mean)\n",
    "\n",
    "peak_local_max_params = {\"filters\": filters, \"num_sigma\": [10], \"seuil\": [0.9], \"abs_t\": [0.9]}\n",
    "params = {\"LoG\": peak_local_max_params}\n",
    "nb_peaks_mean, nb_found_present_mean, recall_mean, accuracy_mean = synthese.synthese_group(params, \"log_mass_per_mass_cluster.json\", \"C:/Users/33631/Desktop/all_bench/benchmark/\", method=method, group=group, plot=False)\n",
    "print(nb_peaks_mean, nb_found_present_mean, recall_mean, accuracy_mean)\n",
    "print(\"--------------------------------------\")\n",
    "\n",
    "\n",
    "peak_local_max_params = {\"filters\": filters, \"num_sigma\": [10], \"seuil\": [0.9], \"abs_t\": [0.01]}\n",
    "params = {\"LoG\": peak_local_max_params}\n",
    "nb_peaks_mean, nb_found_present_mean, recall_mean, accuracy_mean = synthese.synthese_group(params, \"log_3D_cluster.json\", \"C:/Users/33631/Desktop/all_bench/benchmark/\", method=method, group=group, plot=False)\n",
    "print(nb_peaks_mean, nb_found_present_mean, recall_mean, accuracy_mean)"
   ]
  },
  {
   "cell_type": "code",
   "execution_count": 72,
   "metadata": {},
   "outputs": [
    {
     "name": "stdout",
     "output_type": "stream",
     "text": [
      "[91.71428571] [16.79591837] [0.91666667] [0.18574707]\n",
      "--------------------------------------\n",
      "[90.67346939] [16.18367347] [0.90646259] [0.18118962]\n",
      "[71.12244898] [13.06122449] [0.95918367] [0.18682177]\n",
      "--------------------------------------\n",
      "nan nan nan nan\n"
     ]
    }
   ],
   "source": [
    "group=\"*\"\n",
    "method=\"LoG\"\n",
    "method_params = {\"filters\": filters, \"num_sigma\": [10], \"seuil\": [0.9], \"abs_t\": [0.01]}\n",
    "params = {\"LoG\": method_params}\n",
    "\n",
    "nb_peaks_mean, nb_found_present_mean, recall_mean, accuracy_mean = synthese.synthese_group(params, \"log_TIC_cluster.json\", \"C:/Users/33631/Desktop/all_bench/benchmark/\", method=method, group=group, plot=False)\n",
    "print(nb_peaks_mean, nb_found_present_mean, recall_mean, accuracy_mean)\n",
    "\n",
    "print(\"--------------------------------------\")\n",
    "peak_local_max_params = {\"filters\": filters, \"num_sigma\": [10], \"seuil\": [0.9], \"abs_t\": [0.7]}\n",
    "params = {\"LoG\": peak_local_max_params}\n",
    "nb_peaks_mean, nb_found_present_mean, recall_mean, accuracy_mean = synthese.synthese_group(params, \"log_mass_per_mass_cluster.json\", \"C:/Users/33631/Desktop/all_bench/benchmark/\", method=method, group=group, plot=False)\n",
    "print(nb_peaks_mean, nb_found_present_mean, recall_mean, accuracy_mean)\n",
    "\n",
    "peak_local_max_params = {\"filters\": filters, \"num_sigma\": [10], \"seuil\": [0.9], \"abs_t\": [0.9]}\n",
    "params = {\"LoG\": peak_local_max_params}\n",
    "nb_peaks_mean, nb_found_present_mean, recall_mean, accuracy_mean = synthese.synthese_group(params, \"log_mass_per_mass_cluster.json\", \"C:/Users/33631/Desktop/all_bench/benchmark/\", method=method, group=group, plot=False)\n",
    "print(nb_peaks_mean, nb_found_present_mean, recall_mean, accuracy_mean)\n",
    "print(\"--------------------------------------\")\n",
    "\n",
    "\n",
    "peak_local_max_params = {\"filters\": filters, \"num_sigma\": [10], \"seuil\": [0.9], \"abs_t\": [0.01]}\n",
    "params = {\"LoG\": peak_local_max_params}\n",
    "nb_peaks_mean, nb_found_present_mean, recall_mean, accuracy_mean = synthese.synthese_group(params, \"log_3D_cluster.json\", \"C:/Users/33631/Desktop/all_bench/benchmark/\", method=method, group=group, plot=False)\n",
    "print(nb_peaks_mean, nb_found_present_mean, recall_mean, accuracy_mean)"
   ]
  },
  {
   "attachments": {},
   "cell_type": "markdown",
   "metadata": {},
   "source": [
    "# Drain"
   ]
  },
  {
   "cell_type": "code",
   "execution_count": 74,
   "metadata": {},
   "outputs": [
    {
     "name": "stdout",
     "output_type": "stream",
     "text": [
      "[56.41935484] [18.4516129] [0.97580645] [0.33125645]\n",
      "--------------------------------------\n",
      "[40.12903226] [16.22580645] [0.97311828] [0.42003072]\n"
     ]
    }
   ],
   "source": [
    "group=\"G0\"\n",
    "method=\"pers_hom\"\n",
    "method_params = {\"filters\": filters, \"seuil\": [0.9], \"abs_t\": [0.024]}\n",
    "params = {\"pers_hom\": method_params}\n",
    "\n",
    "nb_peaks_mean, nb_found_present_mean, recall_mean, accuracy_mean = synthese.synthese_group(params, \"pers_hom_TIC_cluster.json\", \"C:/Users/33631/Desktop/all_bench/benchmark/\", method=method, group=group, plot=False)\n",
    "print(nb_peaks_mean, nb_found_present_mean, recall_mean, accuracy_mean)\n",
    "\n",
    "print(\"--------------------------------------\")\n",
    "peak_local_max_params = {\"filters\": filters, \"seuil\": [0.9], \"abs_t\": [0.7]}\n",
    "params = {\"pers_hom\": peak_local_max_params}\n",
    "nb_peaks_mean, nb_found_present_mean, recall_mean, accuracy_mean = synthese.synthese_group(params, \"pers_hom_mass_per_mass_cluster.json\", \"C:/Users/33631/Desktop/all_bench/benchmark/\", method=method, group=group, plot=False)\n",
    "print(nb_peaks_mean, nb_found_present_mean, recall_mean, accuracy_mean)"
   ]
  },
  {
   "cell_type": "code",
   "execution_count": 75,
   "metadata": {},
   "outputs": [
    {
     "name": "stdout",
     "output_type": "stream",
     "text": [
      "[120.54054054] [18.78378378] [0.97297297] [0.16037871]\n",
      "--------------------------------------\n",
      "[88.62162162] [16.51351351] [0.95945946] [0.19060636]\n"
     ]
    }
   ],
   "source": [
    "group=\"NIST\"\n",
    "method=\"pers_hom\"\n",
    "method_params = {\"filters\": filters, \"seuil\": [0.9], \"abs_t\": [0.024]}\n",
    "params = {\"pers_hom\": method_params}\n",
    "\n",
    "nb_peaks_mean, nb_found_present_mean, recall_mean, accuracy_mean = synthese.synthese_group(params, \"pers_hom_TIC_cluster.json\", \"C:/Users/33631/Desktop/all_bench/benchmark/\", method=method, group=group, plot=False)\n",
    "print(nb_peaks_mean, nb_found_present_mean, recall_mean, accuracy_mean)\n",
    "\n",
    "print(\"--------------------------------------\")\n",
    "peak_local_max_params = {\"filters\": filters, \"seuil\": [0.9], \"abs_t\": [0.7]}\n",
    "params = {\"pers_hom\": peak_local_max_params}\n",
    "nb_peaks_mean, nb_found_present_mean, recall_mean, accuracy_mean = synthese.synthese_group(params, \"pers_hom_mass_per_mass_cluster.json\", \"C:/Users/33631/Desktop/all_bench/benchmark/\", method=method, group=group, plot=False)\n",
    "print(nb_peaks_mean, nb_found_present_mean, recall_mean, accuracy_mean)"
   ]
  },
  {
   "cell_type": "code",
   "execution_count": 76,
   "metadata": {},
   "outputs": [
    {
     "name": "stdout",
     "output_type": "stream",
     "text": [
      "[116.69387755] [18.73469388] [0.98469388] [0.16359841]\n",
      "--------------------------------------\n",
      "[86.79591837] [15.20408163] [0.95238095] [0.17953971]\n"
     ]
    }
   ],
   "source": [
    "group=\"*\"\n",
    "method=\"pers_hom\"\n",
    "method_params = {\"filters\": filters, \"seuil\": [0.9], \"abs_t\": [0.024]}\n",
    "params = {\"pers_hom\": method_params}\n",
    "\n",
    "nb_peaks_mean, nb_found_present_mean, recall_mean, accuracy_mean = synthese.synthese_group(params, \"pers_hom_TIC_cluster.json\", \"C:/Users/33631/Desktop/all_bench/benchmark/\", method=method, group=group, plot=False)\n",
    "print(nb_peaks_mean, nb_found_present_mean, recall_mean, accuracy_mean)\n",
    "\n",
    "print(\"--------------------------------------\")\n",
    "peak_local_max_params = {\"filters\": filters, \"seuil\": [0.9], \"abs_t\": [0.7]}\n",
    "params = {\"pers_hom\": peak_local_max_params}\n",
    "nb_peaks_mean, nb_found_present_mean, recall_mean, accuracy_mean = synthese.synthese_group(params, \"pers_hom_mass_per_mass_cluster.json\", \"C:/Users/33631/Desktop/all_bench/benchmark/\", method=method, group=group, plot=False)\n",
    "print(nb_peaks_mean, nb_found_present_mean, recall_mean, accuracy_mean)"
   ]
  },
  {
   "attachments": {},
   "cell_type": "markdown",
   "metadata": {},
   "source": [
    "# ChromatoTOF"
   ]
  },
  {
   "cell_type": "code",
   "execution_count": 79,
   "metadata": {},
   "outputs": [],
   "source": [
    "sample_comp, sample=chromatof.parse_chromato_xlsx(filename='./data/Classeur1.xlsx', block_w = 6, offset = 3)"
   ]
  },
  {
   "cell_type": "code",
   "execution_count": 80,
   "metadata": {},
   "outputs": [
    {
     "name": "stdout",
     "output_type": "stream",
     "text": [
      "995.0862068965517\n"
     ]
    }
   ],
   "source": [
    "metrics=chromatof.compute_sample_metrics(sample_comp)"
   ]
  },
  {
   "cell_type": "code",
   "execution_count": 81,
   "metadata": {},
   "outputs": [
    {
     "data": {
      "text/plain": [
       "([589.0967741935484, 0.9516129032258066, 0.023334856178028877, 0],\n",
       " [1124.1666666666667, 0.9166666666666669, 0.011189779657738853, 0],\n",
       " [1157.1020408163265, 0.9812925170068026, 0.012319855010899997, 0])"
      ]
     },
     "execution_count": 81,
     "metadata": {},
     "output_type": "execute_result"
    }
   ],
   "source": [
    "chromatof.compute_metrics_per_class(sample, metrics)"
   ]
  },
  {
   "cell_type": "code",
   "execution_count": null,
   "metadata": {},
   "outputs": [],
   "source": []
  }
 ],
 "metadata": {
  "kernelspec": {
   "display_name": "Python 3",
   "language": "python",
   "name": "python3"
  },
  "language_info": {
   "codemirror_mode": {
    "name": "ipython",
    "version": 3
   },
   "file_extension": ".py",
   "mimetype": "text/x-python",
   "name": "python",
   "nbconvert_exporter": "python",
   "pygments_lexer": "ipython3",
   "version": "3.9.13"
  },
  "orig_nbformat": 4
 },
 "nbformat": 4,
 "nbformat_minor": 2
}

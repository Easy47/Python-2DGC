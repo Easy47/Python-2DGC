{
 "cells": [
  {
   "cell_type": "code",
   "execution_count": null,
   "metadata": {},
   "outputs": [],
   "source": [
    "# mv this notebook in src folder\n",
    "# or\n",
    "# set sys path to src folder\n",
    "import os, sys\n",
    "path_to_scr_folder=os.path.join(os.path.dirname(os.path.abspath('')), 'src')\n",
    "sys.path.append(path_to_scr_folder)"
   ]
  },
  {
   "cell_type": "code",
   "execution_count": null,
   "metadata": {},
   "outputs": [],
   "source": [
    "import peak_simulation\n",
    "import read"
   ]
  },
  {
   "cell_type": "code",
   "execution_count": null,
   "metadata": {},
   "outputs": [],
   "source": [
    "# FILENAME of the chromatogram used as model to create the new chromatogram\n",
    "model_filename='F:/Bureau/032023-data-Tenax-VOC-COVID/801850-A-C-01-157-split10.cdf'\n",
    "model_filename=...\n",
    "# PATH where the cdf and the associated ground truth will be created\n",
    "new_cdf_path=...\n",
    "# NAME of the new chromatogram\n",
    "cdf_name=...\n",
    "# FILENAME of the HMDB library. The file alread exists in the src folder but can be recreated. See README.md https://github.com/Easy47/Python-2DGC#if-you-need-to-simulate-data (2.)\n",
    "lib_path='./lib_EIB_gt.mgf'\n",
    "lib_path=..."
   ]
  },
  {
   "cell_type": "code",
   "execution_count": null,
   "metadata": {},
   "outputs": [],
   "source": [
    "params=peak_simulation.simulation_from_cdf_model(new_cdf_path=new_cdf_path, cdf_name=cdf_name, model_filename=model_filename, lib_path=lib_path, noise_loc=1000.0, noise_scale=500.0, min_overlap=0.70, max_overlap=0.99, intensity_range_min=60000000, intensity_range_max=90000000)"
   ]
  },
  {
   "cell_type": "markdown",
   "metadata": {},
   "source": [
    "Plot the created chromatogram"
   ]
  },
  {
   "cell_type": "code",
   "execution_count": null,
   "metadata": {},
   "outputs": [],
   "source": [
    "chromato_obj_new=read_chroma.read_chroma(new_cdf_path + '/' + cdf_name)"
   ]
  }
 ],
 "metadata": {
  "kernelspec": {
   "display_name": "Python 3.8.10 64-bit",
   "language": "python",
   "name": "python3"
  },
  "language_info": {
   "name": "python",
   "version": "3.8.10"
  },
  "orig_nbformat": 4,
  "vscode": {
   "interpreter": {
    "hash": "423fddc95e57d3b24b6442ce97adf60fab71fca21ce3c8e55b5c0393282e5808"
   }
  }
 },
 "nbformat": 4,
 "nbformat_minor": 2
}

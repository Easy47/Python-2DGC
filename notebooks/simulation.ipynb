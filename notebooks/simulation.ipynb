{
 "cells": [
  {
   "cell_type": "code",
   "execution_count": 36,
   "metadata": {},
   "outputs": [],
   "source": [
    "# mv this notebook in src folder\n",
    "# or\n",
    "# set sys path to src folder\n",
    "import os, sys\n",
    "path_to_scr_folder=os.path.join(os.path.dirname(os.path.abspath('')), 'src')\n",
    "sys.path.append(path_to_scr_folder)"
   ]
  },
  {
   "cell_type": "code",
   "execution_count": 46,
   "metadata": {},
   "outputs": [],
   "source": [
    "import peak_simulation\n",
    "import read_chroma\n",
    "import plot"
   ]
  },
  {
   "cell_type": "code",
   "execution_count": 41,
   "metadata": {},
   "outputs": [],
   "source": [
    "# FILENAME of the chromatogram used as model to create the new chromatogram\n",
    "model_filename='F:/Bureau/032023-data-Tenax-VOC-COVID/801850-A-C-01-157-split10.cdf'\n",
    "model_filename=...\n",
    "model_filename='F:/Bureau/032023-data-Tenax-VOC-COVID/801850-A-C-01-157-split10.cdf'\n",
    "\n",
    "# PATH where the cdf and the associated ground truth will be created\n",
    "new_cdf_path=...\n",
    "new_cdf_path=\"C:/Users/Stan/Python-2DGC/SIMULATION/\"\n",
    "# NAME of the new chromatogram\n",
    "cdf_name=\"test\"\n",
    "cdf_name=...\n",
    "cdf_name=\"test\"\n",
    "\n",
    "# FILENAME of the HMDB library. The file alread exists in the src folder but can be recreated. See README.md https://github.com/Easy47/Python-2DGC#if-you-need-to-simulate-data (2.)\n",
    "lib_path='C:/Users/Stan/Python-2DGC/src/lib_EIB_gt.mgf'\n",
    "lib_path=...\n",
    "lib_path='C:/Users/Stan/Python-2DGC/src/lib_EIB_gt.mgf'\n",
    "\n",
    "# FILENAME of the HMDB library spectra pairwise scores\n",
    "scores_path='C:/Users/Stan/Python-2DGC/src/lib_scores.json'\n",
    "scores_path=...\n",
    "scores_path='C:/Users/Stan/Python-2DGC/src/lib_scores.json'\n"
   ]
  },
  {
   "cell_type": "code",
   "execution_count": 42,
   "metadata": {},
   "outputs": [
    {
     "name": "stdout",
     "output_type": "stream",
     "text": [
      "1/14 1/6\n",
      "1/14 2/6\n",
      "1/14 3/6\n",
      "1/14 4/6\n",
      "1/14 5/6\n",
      "1/14 6/6\n",
      "2/14 1/6\n",
      "2/14 2/6\n",
      "2/14 3/6\n",
      "2/14 4/6\n",
      "2/14 5/6\n",
      "2/14 6/6\n",
      "3/14 1/6\n",
      "3/14 2/6\n",
      "3/14 3/6\n",
      "3/14 4/6\n",
      "3/14 5/6\n",
      "3/14 6/6\n",
      "4/14 1/6\n",
      "4/14 2/6\n",
      "4/14 3/6\n",
      "4/14 4/6\n",
      "4/14 5/6\n",
      "4/14 6/6\n",
      "5/14 1/6\n",
      "5/14 2/6\n",
      "5/14 3/6\n",
      "5/14 4/6\n",
      "5/14 5/6\n",
      "5/14 6/6\n",
      "6/14 1/6\n",
      "6/14 2/6\n",
      "6/14 3/6\n",
      "6/14 4/6\n",
      "6/14 5/6\n",
      "6/14 6/6\n",
      "7/14 1/6\n",
      "7/14 2/6\n",
      "7/14 3/6\n",
      "7/14 4/6\n",
      "7/14 5/6\n",
      "7/14 6/6\n",
      "8/14 1/6\n",
      "8/14 2/6\n",
      "8/14 3/6\n",
      "8/14 4/6\n",
      "8/14 5/6\n",
      "8/14 6/6\n",
      "9/14 1/6\n",
      "9/14 2/6\n",
      "9/14 3/6\n",
      "9/14 4/6\n",
      "9/14 5/6\n",
      "9/14 6/6\n",
      "10/14 1/6\n",
      "10/14 2/6\n",
      "10/14 3/6\n",
      "10/14 4/6\n",
      "10/14 5/6\n",
      "10/14 6/6\n",
      "11/14 1/6\n",
      "11/14 2/6\n",
      "11/14 3/6\n",
      "11/14 4/6\n",
      "11/14 5/6\n",
      "11/14 6/6\n",
      "12/14 1/6\n",
      "12/14 2/6\n",
      "12/14 3/6\n",
      "12/14 4/6\n",
      "12/14 5/6\n",
      "12/14 6/6\n",
      "13/14 1/6\n",
      "13/14 2/6\n",
      "13/14 3/6\n",
      "13/14 4/6\n",
      "13/14 5/6\n",
      "13/14 6/6\n",
      "14/14 1/6\n",
      "14/14 2/6\n",
      "14/14 3/6\n",
      "14/14 4/6\n",
      "14/14 5/6\n",
      "14/14 6/6\n"
     ]
    },
    {
     "name": "stderr",
     "output_type": "stream",
     "text": [
      "c:\\Users\\Stan\\Python-2DGC\\src\\peak_simulation.py:1001: VisibleDeprecationWarning: Creating an ndarray from ragged nested sequences (which is a list-or-tuple of lists-or-tuples-or ndarrays with different lengths or shapes) is deprecated. If you meant to do this, you must specify 'dtype=object' when creating the ndarray.\n",
      "  clusters_created_points_spectra.append(np.array(spectra))\n"
     ]
    },
    {
     "name": "stdout",
     "output_type": "stream",
     "text": [
      "12 499\n",
      "new_chromato_cube shape:  (488, 2160, 250)\n"
     ]
    }
   ],
   "source": [
    "params=peak_simulation.simulation_from_cdf_model(new_cdf_path=new_cdf_path, cdf_name=cdf_name, model_filename=model_filename, lib_path=lib_path, scores_path=scores_path, noise_loc=1000.0, noise_scale=500.0, min_overlap=0.70, max_overlap=0.99, intensity_range_min=60000000, intensity_range_max=90000000)"
   ]
  },
  {
   "cell_type": "markdown",
   "metadata": {},
   "source": [
    "Plot the created chromatogram"
   ]
  },
  {
   "cell_type": "code",
   "execution_count": 44,
   "metadata": {},
   "outputs": [],
   "source": [
    "chromato_obj_new=read_chroma.read_chroma(new_cdf_path + '/' + cdf_name + \".cdf\")"
   ]
  },
  {
   "cell_type": "code",
   "execution_count": 47,
   "metadata": {},
   "outputs": [
    {
     "data": {
      "image/png": "[encoded data removed]",
      "text/plain": [
       "<Figure size 640x480 with 2 Axes>"
      ]
     },
     "metadata": {},
     "output_type": "display_data"
    }
   ],
   "source": [
    "plot.visualizer((chromato_obj_new[0], chromato_obj_new[1]))"
   ]
  }
 ],
 "metadata": {
  "kernelspec": {
   "display_name": "Python 3.8.10 64-bit",
   "language": "python",
   "name": "python3"
  },
  "language_info": {
   "codemirror_mode": {
    "name": "ipython",
    "version": 3
   },
   "file_extension": ".py",
   "mimetype": "text/x-python",
   "name": "python",
   "nbconvert_exporter": "python",
   "pygments_lexer": "ipython3",
   "version": "3.8.10"
  },
  "orig_nbformat": 4,
  "vscode": {
   "interpreter": {
    "hash": "423fddc95e57d3b24b6442ce97adf60fab71fca21ce3c8e55b5c0393282e5808"
   }
  }
 },
 "nbformat": 4,
 "nbformat_minor": 2
}
